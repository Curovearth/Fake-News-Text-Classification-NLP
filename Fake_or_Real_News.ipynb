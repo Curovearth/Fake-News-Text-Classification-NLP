{
  "nbformat": 4,
  "nbformat_minor": 0,
  "metadata": {
    "colab": {
      "name": "Fake or Real News.ipynb",
      "provenance": [],
      "authorship_tag": "ABX9TyOVLGRii+egGuh8PgR4yNVJ",
      "include_colab_link": true
    },
    "kernelspec": {
      "name": "python3",
      "display_name": "Python 3"
    },
    "language_info": {
      "name": "python"
    }
  },
  "cells": [
    {
      "cell_type": "markdown",
      "metadata": {
        "id": "view-in-github",
        "colab_type": "text"
      },
      "source": [
        "<a href=\"https://colab.research.google.com/github/Curovearth/Fake-or-Real-News/blob/main/Fake_or_Real_News.ipynb\" target=\"_parent\"><img src=\"https://colab.research.google.com/assets/colab-badge.svg\" alt=\"Open In Colab\"/></a>"
      ]
    },
    {
      "cell_type": "markdown",
      "source": [
        "---\n",
        "# **Fake or Real News**\n",
        "---"
      ],
      "metadata": {
        "id": "GJ4UvBzUvIi_"
      }
    },
    {
      "cell_type": "markdown",
      "source": [
        "### What needs to be done?"
      ],
      "metadata": {
        "id": "DnG0kb1FvPWd"
      }
    },
    {
      "cell_type": "markdown",
      "source": [
        "\n",
        "@ 09 August 2022\n",
        "\n",
        "1.   Downloading the Dataset from Kaggle\n",
        "\n",
        "* Go to your kaggle account\n",
        "* expire token such that previous tokens get expired\n",
        "* create new token (downloads kaggle.json) \n",
        "2.   Make sure to export the dataset on to Drive link such that it'll get stored there\n",
        "3. \n",
        "\n",
        "\n"
      ],
      "metadata": {
        "id": "tyuE4-xiu33P"
      }
    },
    {
      "cell_type": "code",
      "execution_count": null,
      "metadata": {
        "colab": {
          "base_uri": "https://localhost:8080/"
        },
        "id": "fKr5JDOdul2I",
        "outputId": "8e0225f7-ed82-4d10-94bb-5b0f3c7718c7"
      },
      "outputs": [
        {
          "output_type": "stream",
          "name": "stdout",
          "text": [
            "Mounted at /content/gdrive\n"
          ]
        }
      ],
      "source": [
        "from google.colab import drive\n",
        "drive.mount('/content/gdrive')"
      ]
    },
    {
      "cell_type": "markdown",
      "source": [
        "---\n",
        "### Setting up the Libraries"
      ],
      "metadata": {
        "id": "SKMV9rwnXYJn"
      }
    },
    {
      "cell_type": "code",
      "source": [
        "import numpy as np\n",
        "import os\n",
        "import pandas as pd"
      ],
      "metadata": {
        "id": "rmKzXbwr1Kcg"
      },
      "execution_count": null,
      "outputs": []
    },
    {
      "cell_type": "markdown",
      "source": [
        "---\n",
        "### Accessing the directory having our dataset"
      ],
      "metadata": {
        "id": "CoS6AgI-XleX"
      }
    },
    {
      "cell_type": "code",
      "source": [
        "for dirname, _, filenames in os.walk('/content/gdrive/MyDrive/LSM and TARP '):\n",
        "  for filename in filenames:\n",
        "    print(os.path.join(dirname, filename))"
      ],
      "metadata": {
        "colab": {
          "base_uri": "https://localhost:8080/"
        },
        "id": "pKxVkaTSXjqS",
        "outputId": "3d6fc1ae-c124-4eef-c990-e1d3a3f23ce1"
      },
      "execution_count": null,
      "outputs": [
        {
          "output_type": "stream",
          "name": "stdout",
          "text": [
            "/content/gdrive/MyDrive/LSM and TARP /fake2.csv\n",
            "/content/gdrive/MyDrive/LSM and TARP /fake_or_real_news.csv\n",
            "/content/gdrive/MyDrive/LSM and TARP /Fake.csv\n",
            "/content/gdrive/MyDrive/LSM and TARP /True.csv\n",
            "/content/gdrive/MyDrive/LSM and TARP /news_articles.csv\n"
          ]
        }
      ]
    },
    {
      "cell_type": "code",
      "source": [
        ""
      ],
      "metadata": {
        "id": "rtIvFamIYE62"
      },
      "execution_count": null,
      "outputs": []
    }
  ]
}